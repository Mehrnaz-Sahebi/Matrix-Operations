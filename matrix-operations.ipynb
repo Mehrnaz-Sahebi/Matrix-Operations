{
 "cells": [
  {
   "attachments": {},
   "cell_type": "markdown",
   "metadata": {},
   "source": [
    "# Linear Algebra Matrix Operations:\n",
    "\n",
    "The following notebook consists of:\n",
    "1. Implementation of elementary row operations : Scaling, Replacement, Interchange\n",
    "2. Using the defined functions to find the answer of a system\n",
    "3. Calculation of the determinant\n",
    "4. Plotting the answer\n"
   ]
  },
  {
   "attachments": {},
   "cell_type": "markdown",
   "metadata": {},
   "source": [
    "### 0. Libraries"
   ]
  },
  {
   "cell_type": "code",
   "execution_count": 1,
   "metadata": {
    "is_executing": true
   },
   "outputs": [],
   "source": [
    "import time\n",
    "import matplotlib.pyplot as plt\n",
    "import numpy as np"
   ]
  },
  {
   "attachments": {},
   "cell_type": "markdown",
   "metadata": {},
   "source": [
    "## 1. Implementation of elementary row operations\n",
    "Implement these operations from scratch, for they will be used for upcoming sections\n"
   ]
  },
  {
   "attachments": {},
   "cell_type": "markdown",
   "metadata": {},
   "source": [
    "### 1.1. Scaling"
   ]
  },
  {
   "cell_type": "code",
   "execution_count": 2,
   "metadata": {},
   "outputs": [],
   "source": [
    "def op_scale(A, R, C):\n",
    "    temp = A[R].astype(float) * C\n",
    "    A[R] = temp"
   ]
  },
  {
   "cell_type": "code",
   "execution_count": 3,
   "metadata": {
    "collapsed": false,
    "is_executing": true,
    "jupyter": {
     "outputs_hidden": false
    }
   },
   "outputs": [
    {
     "data": {
      "text/plain": [
       "'\\n Expected_output = [[10, 3, 2, 1],\\n                    [ 3, 0,12, 6],\\n                    [ 7, 5,-1, 9],\\n                    [-6,-7, 8,-4]]\\n'"
      ]
     },
     "execution_count": 3,
     "metadata": {},
     "output_type": "execute_result"
    }
   ],
   "source": [
    "#e.g.\n",
    "A = np.array([[10, 3, 2, 1],\n",
    "               [ 1, 0, 4, 2],\n",
    "               [ 7, 5,-1, 9],\n",
    "               [-6,-7, 8,-4]])\n",
    "\n",
    "op_scale(A, 2, 3)\n",
    "\"\"\"\n",
    " Expected_output = [[10, 3, 2, 1],\n",
    "                    [ 3, 0,12, 6],\n",
    "                    [ 7, 5,-1, 9],\n",
    "                    [-6,-7, 8,-4]]\n",
    "\"\"\""
   ]
  },
  {
   "attachments": {},
   "cell_type": "markdown",
   "metadata": {},
   "source": [
    "### 1.2. Interchange"
   ]
  },
  {
   "cell_type": "code",
   "execution_count": 4,
   "metadata": {},
   "outputs": [],
   "source": [
    "def op_interchange(A, R1, R2):\n",
    "    R1-=1\n",
    "    R2-=1\n",
    "    temp = np.array(A[R1])\n",
    "    A[R1] = A[R2]\n",
    "    A[R2] = temp\n",
    "    return A"
   ]
  },
  {
   "cell_type": "code",
   "execution_count": 5,
   "metadata": {
    "collapsed": false,
    "jupyter": {
     "outputs_hidden": false
    }
   },
   "outputs": [
    {
     "data": {
      "text/plain": [
       "'\\nExpected_output = [[10, 3, 2, 1],\\n                    [ 3, 0,12, 6],\\n                    [-6,-7, 8,-4],\\n                    [ 7, 5,-1, 9]]\\n'"
      ]
     },
     "execution_count": 5,
     "metadata": {},
     "output_type": "execute_result"
    }
   ],
   "source": [
    "# e.g.\n",
    "op_interchange(A, 3, 4)\n",
    "\"\"\"\n",
    "Expected_output = [[10, 3, 2, 1],\n",
    "                    [ 3, 0,12, 6],\n",
    "                    [-6,-7, 8,-4],\n",
    "                    [ 7, 5,-1, 9]]\n",
    "\"\"\""
   ]
  },
  {
   "attachments": {},
   "cell_type": "markdown",
   "metadata": {},
   "source": [
    "### 1.3. Replace"
   ]
  },
  {
   "cell_type": "code",
   "execution_count": 6,
   "metadata": {},
   "outputs": [],
   "source": [
    "def op_replace(A, R1, R2 , C):\n",
    "    temp = np.array(A[R2])\n",
    "    temp = temp + C * A[R1]\n",
    "    A[R2] = temp\n",
    "    return A"
   ]
  },
  {
   "cell_type": "code",
   "execution_count": 7,
   "metadata": {
    "collapsed": false,
    "jupyter": {
     "outputs_hidden": false
    }
   },
   "outputs": [
    {
     "data": {
      "text/plain": [
       "'\\nExpected_output = [[22, 3,50,25],\\n                   [ 3, 0,12, 6],\\n                   [-6,-7, 8,-4],\\n                   [ 7, 5,-1, 9]]\\n'"
      ]
     },
     "execution_count": 7,
     "metadata": {},
     "output_type": "execute_result"
    }
   ],
   "source": [
    "# e.g.\n",
    "op_replace(A, 2, 1, 4)\n",
    "\"\"\"\n",
    "Expected_output = [[22, 3,50,25],\n",
    "                   [ 3, 0,12, 6],\n",
    "                   [-6,-7, 8,-4],\n",
    "                   [ 7, 5,-1, 9]]\n",
    "\"\"\"\n"
   ]
  },
  {
   "attachments": {},
   "cell_type": "markdown",
   "metadata": {},
   "source": [
    "## 2. Solving a system of linear equations\n",
    "In this part, you are required to use the functions defined in the previous part to find the solution to a linear system of equations.\n"
   ]
  },
  {
   "attachments": {},
   "cell_type": "markdown",
   "metadata": {},
   "source": [
    "### 2.1. Row Echelon Form"
   ]
  },
  {
   "cell_type": "code",
   "execution_count": 8,
   "metadata": {},
   "outputs": [],
   "source": [
    "def row_echelon(A):\n",
    "    matrix_row_count = A.shape[0]\n",
    "    matrix_column_count = A.shape[1]\n",
    "    if matrix_row_count == 1:\n",
    "        if A[0,0] != 0:\n",
    "            op_scale(A, 0, 1/A[0, 0])\n",
    "        return 0\n",
    "    i = 1\n",
    "    # r is the number of row interchanges (it is used to calculate the determinant)\n",
    "    r = 0\n",
    "    while i < matrix_row_count and A[0, 0] == 0:\n",
    "        op_interchange(A, 0+1, i+1)\n",
    "        r += 1\n",
    "        i += 1\n",
    "    if A[0,0] != 0:\n",
    "        op_scale(A, 0, 1/A[0,0])\n",
    "    for i in range(1, matrix_row_count):\n",
    "        op_replace(A, 0, i, -A[i, 0])\n",
    "    r += row_echelon(A[1:, 1:])\n",
    "    return r"
   ]
  },
  {
   "cell_type": "code",
   "execution_count": 9,
   "metadata": {
    "collapsed": false,
    "jupyter": {
     "outputs_hidden": false
    }
   },
   "outputs": [
    {
     "name": "stdout",
     "output_type": "stream",
     "text": [
      "[[1 2 3 4]\n",
      " [0 1 2 3]\n",
      " [0 0 0 0]]\n"
     ]
    },
    {
     "data": {
      "text/plain": [
       "'\"\\nNotice that any true row-echelon form is acceptable. An example is given below:\\n([[ 1, 2, 3, 4],\\n  [ 0,-4,-8,-12],\\n  [ 0, 0, 0, 0]])\\n'"
      ]
     },
     "execution_count": 9,
     "metadata": {},
     "output_type": "execute_result"
    }
   ],
   "source": [
    "#e.g.\n",
    "B = np.array([[ 1, 2, 3, 4],\n",
    "              [ 5, 6, 7, 8],\n",
    "              [ 9,10,11,12]])\n",
    "row_echelon(B)\n",
    "\"\"\"\"\n",
    "Notice that any true row-echelon form is acceptable. An example is given below:\n",
    "([[ 1, 2, 3, 4],\n",
    "  [ 0,-4,-8,-12],\n",
    "  [ 0, 0, 0, 0]])\n",
    "\"\"\"\n"
   ]
  },
  {
   "attachments": {},
   "cell_type": "markdown",
   "metadata": {},
   "source": [
    "### 2.2. Reduce Row Echelon Form"
   ]
  },
  {
   "cell_type": "code",
   "execution_count": 10,
   "metadata": {},
   "outputs": [],
   "source": [
    "def reduce(A):\n",
    "    matrix_row_count = A.shape[0]\n",
    "    matrix_column_count = A.shape[1]\n",
    "    column_counter = 0\n",
    "    # to reach the pivot position in a row \n",
    "    while column_counter < matrix_column_count and A[0, column_counter] == 0:\n",
    "        column_counter += 1\n",
    "    # if the column_counter == matrix_column_count we have a all zero row\n",
    "    if column_counter == matrix_column_count :\n",
    "        return\n",
    "    op_scale(A, 0, 1/A[0, column_counter])\n",
    "    # We only need to scale the last row\n",
    "    if matrix_row_count == 1:\n",
    "        return\n",
    "    for i in range(1, matrix_row_count):\n",
    "        column_counter = i\n",
    "        while column_counter < matrix_column_count and A[i, column_counter] == 0:\n",
    "            column_counter += 1\n",
    "        # if the column_counter == matrix_column_count we have a all zero row\n",
    "        if column_counter != matrix_column_count :\n",
    "            op_replace(A ,i ,0 , -A[0, column_counter]/A[i, column_counter])\n",
    "    reduce(A[1:, 1:])"
   ]
  },
  {
   "cell_type": "code",
   "execution_count": 11,
   "metadata": {
    "collapsed": false,
    "jupyter": {
     "outputs_hidden": false
    }
   },
   "outputs": [
    {
     "name": "stdout",
     "output_type": "stream",
     "text": [
      "[[ 1  0 -1 -2]\n",
      " [ 0  1  2  3]\n",
      " [ 0  0  0  0]]\n"
     ]
    },
    {
     "data": {
      "text/plain": [
       "'\\nExpected_output = [[ 1, 0,-1,-2],\\n                   [ 0, 1, 2, 3],\\n                   [ 0, 0, 0, 0]]\\n'"
      ]
     },
     "execution_count": 11,
     "metadata": {},
     "output_type": "execute_result"
    }
   ],
   "source": [
    "# e.g.\n",
    "B = np.array([[ 1, 2, 3, 4],\n",
    "              [ 0,-4,-8,-12],\n",
    "              [ 0, 0, 0, 0]])\n",
    "reduce(B)\n",
    "\"\"\"\n",
    "Expected_output = [[ 1, 0,-1,-2],\n",
    "                   [ 0, 1, 2, 3],\n",
    "                   [ 0, 0, 0, 0]]\n",
    "\"\"\""
   ]
  },
  {
   "attachments": {},
   "cell_type": "markdown",
   "metadata": {},
   "source": [
    "### 2.3. Existence of the Solution\n",
    "Based on the reduced form of the augmented matrix and prior to finding the answer, make sure the solution exists!"
   ]
  },
  {
   "cell_type": "code",
   "execution_count": 12,
   "metadata": {},
   "outputs": [],
   "source": [
    "def is_consistent(A):\n",
    "    matrix_row_count = A.shape[0]\n",
    "    matrix_column_count = A.shape[1]    \n",
    "    for i in range (0, matrix_row_count):\n",
    "        all_zero = True\n",
    "        for j in range (0, matrix_column_count):\n",
    "            if j == matrix_column_count - 1:\n",
    "                if all_zero and A[i, j] != 0:\n",
    "                    return False\n",
    "            else:\n",
    "                if A[i, j] != 0:\n",
    "                    all_zero = False\n",
    "    return True"
   ]
  },
  {
   "cell_type": "code",
   "execution_count": 13,
   "metadata": {
    "collapsed": false,
    "jupyter": {
     "outputs_hidden": false
    }
   },
   "outputs": [
    {
     "name": "stdout",
     "output_type": "stream",
     "text": [
      "True\n"
     ]
    },
    {
     "data": {
      "text/plain": [
       "'\\nexpected_output: true\\n'"
      ]
     },
     "execution_count": 13,
     "metadata": {},
     "output_type": "execute_result"
    }
   ],
   "source": [
    "#e.g.\n",
    "is_consistent(B)\n",
    "\n",
    "\"\"\"\n",
    "expected_output: true\n",
    "\"\"\""
   ]
  },
  {
   "attachments": {},
   "cell_type": "markdown",
   "metadata": {},
   "source": [
    "### 2.4. Uniqueness of the Solution\n",
    "Based on prior information, make sure whether the solution is unique or not!"
   ]
  },
  {
   "cell_type": "code",
   "execution_count": 14,
   "metadata": {
    "is_executing": true
   },
   "outputs": [],
   "source": [
    "def is_unique(A):\n",
    "    pivot_positions_count = 0 \n",
    "    matrix_row_count = A.shape[0]\n",
    "    matrix_column_count = A.shape[1]\n",
    "    for i in range (0, matrix_row_count):\n",
    "        column_counter = i\n",
    "        # to reach the pivot position in a row \n",
    "        while column_counter < matrix_column_count and A[i, column_counter] == 0:\n",
    "            column_counter += 1\n",
    "        # if the column_counter == matrix_column_count we have a all zero row\n",
    "        if column_counter != matrix_column_count :\n",
    "            pivot_positions_count += 1\n",
    "    if pivot_positions_count < matrix_column_count - 1:\n",
    "        return False\n",
    "    return True\n"
   ]
  },
  {
   "cell_type": "code",
   "execution_count": 15,
   "metadata": {
    "collapsed": false,
    "jupyter": {
     "outputs_hidden": false
    }
   },
   "outputs": [
    {
     "name": "stdout",
     "output_type": "stream",
     "text": [
      "False\n"
     ]
    },
    {
     "data": {
      "text/plain": [
       "'\\nexpected_output: false\\n'"
      ]
     },
     "execution_count": 15,
     "metadata": {},
     "output_type": "execute_result"
    }
   ],
   "source": [
    "#e.g.\n",
    "is_unique(B)\n",
    "\"\"\"\n",
    "expected_output: false\n",
    "\"\"\""
   ]
  },
  {
   "attachments": {},
   "cell_type": "markdown",
   "metadata": {},
   "source": [
    "### 2.5. Finding (just a) Solution\n",
    "If the system has a solution, find and return it.\n",
    "If the system has infinite solutions, return only one solution and double-check it with the original system defintion."
   ]
  },
  {
   "cell_type": "code",
   "execution_count": 16,
   "metadata": {},
   "outputs": [],
   "source": [
    "def solve(A):\n",
    "    row_echelon(A)\n",
    "    reduce(A)\n",
    "    if is_consistent(A):\n",
    "        return A[:, A.shape[1]-1]\n",
    "    return None\n",
    "            "
   ]
  },
  {
   "attachments": {},
   "cell_type": "markdown",
   "metadata": {},
   "source": [
    "## 3. Determinant\n",
    "In this section, you are requiered to find the determinant of a matrix in two different ways and compare them in the sense of computation complexity.\n"
   ]
  },
  {
   "attachments": {},
   "cell_type": "markdown",
   "metadata": {},
   "source": [
    "### 3.1. Recursive algorithm\n",
    "Implement a recursive algorithm to compute the determinant of a N*N matrix, using expansion with respect to a column or a row.\n"
   ]
  },
  {
   "cell_type": "code",
   "execution_count": 17,
   "metadata": {},
   "outputs": [],
   "source": [
    "def det_recursive(A):\n",
    "    matrix_row_count = A.shape[0]\n",
    "    matrix_column_count = A.shape[1]\n",
    "    if matrix_row_count != matrix_column_count :\n",
    "        return None \n",
    "    if matrix_row_count == 1:\n",
    "        return A[0, 0]\n",
    "    det = 0\n",
    "    for j in range (0, matrix_column_count):\n",
    "        indices = np.arange(0, matrix_column_count)\n",
    "        indices = np.delete(indices, j, 0)\n",
    "        temp = np.take(A, indices, 1)\n",
    "        det += ((-1) ** (j+2)) * A[0, j] * det_recursive(temp[1:,:])\n",
    "    return det"
   ]
  },
  {
   "cell_type": "code",
   "execution_count": 18,
   "metadata": {
    "collapsed": false,
    "jupyter": {
     "outputs_hidden": false
    }
   },
   "outputs": [
    {
     "name": "stdout",
     "output_type": "stream",
     "text": [
      "190\n"
     ]
    },
    {
     "data": {
      "text/plain": [
       "'\\nexpected_output = 190\\n'"
      ]
     },
     "execution_count": 18,
     "metadata": {},
     "output_type": "execute_result"
    }
   ],
   "source": [
    "#e.g.\n",
    "Matrix = np.array([[ 5, 7,-2, 1],\n",
    "                   [-1, 5,-3, 0],\n",
    "                   [ 3,11,-2,-9],\n",
    "                   [ 8, 0, 4,-1]])\n",
    "det_recursive(Matrix)\n",
    "\"\"\"\n",
    "expected_output = 190\n",
    "\"\"\""
   ]
  },
  {
   "cell_type": "markdown",
   "metadata": {},
   "source": [
    "#### 3.1.1. Test your algorithm\n",
    "Measure the computation time of you recursive algorithm by testing it N*N matrixes, N= 2, 3, 4, 5, 6, 7"
   ]
  },
  {
   "cell_type": "code",
   "execution_count": 19,
   "metadata": {
    "is_executing": true
   },
   "outputs": [
    {
     "name": "stdout",
     "output_type": "stream",
     "text": [
      "Time Elapsed for recursive computation of determinant of M2 :  0.0\n",
      "Time Elapsed for recursive computation of determinant of M3 :  0.0010046958923339844\n",
      "Time Elapsed for recursive computation of determinant of M4 :  0.001992464065551758\n",
      "Time Elapsed for recursive computation of determinant of M5 :  0.0029904842376708984\n",
      "Time Elapsed for recursive computation of determinant of M6 :  0.007063388824462891\n",
      "Time Elapsed for recursive computation of determinant of M7 :  0.06680750846862793\n"
     ]
    }
   ],
   "source": [
    "# Testing\n",
    "M2 = np.array([[4,5],[2,3]])\n",
    "M3 = np.array([[3,2,1],[2,2,2],[0,3,1]])\n",
    "# define the rest of the matrixes up to 7*7, you may use random number generators\n",
    "M4 = np.arange(16).reshape(4,4)\n",
    "M5 = np.arange(25).reshape(5,5)\n",
    "M6 = np.arange(36).reshape(6,6)\n",
    "M7 = np.arange(49).reshape(7,7)\n",
    "\n",
    "elapsed_time_recursive=[0]*6\n",
    "\n",
    "start_time = time.time()\n",
    "d1 = det_recursive(M2)\n",
    "end_time = time.time()\n",
    "elapsed_time_recursive[0] = end_time - start_time\n",
    "print(\"Time Elapsed for recursive computation of determinant of M2 : \" , elapsed_time_recursive[0])\n",
    "\n",
    "# Do the same for the rest of the matrices up to 7*7\n",
    "\n",
    "start_time = time.time()\n",
    "d2 = det_recursive(M3)\n",
    "end_time = time.time()\n",
    "elapsed_time_recursive[1] = end_time - start_time\n",
    "print(\"Time Elapsed for recursive computation of determinant of M3 : \" , elapsed_time_recursive[1])\n",
    "\n",
    "start_time = time.time()\n",
    "d3 = det_recursive(M4)\n",
    "end_time = time.time()\n",
    "elapsed_time_recursive[2] = end_time - start_time\n",
    "print(\"Time Elapsed for recursive computation of determinant of M4 : \" , elapsed_time_recursive[2])\n",
    "\n",
    "start_time = time.time()\n",
    "d4 = det_recursive(M5)\n",
    "end_time = time.time()\n",
    "elapsed_time_recursive[3] = end_time - start_time\n",
    "print(\"Time Elapsed for recursive computation of determinant of M5 : \" , elapsed_time_recursive[3])\n",
    "\n",
    "start_time = time.time()\n",
    "d5 = det_recursive(M6)\n",
    "end_time = time.time()\n",
    "elapsed_time_recursive[4] = end_time - start_time\n",
    "print(\"Time Elapsed for recursive computation of determinant of M6 : \" , elapsed_time_recursive[4])\n",
    "\n",
    "start_time = time.time()\n",
    "d6 = det_recursive(M7)\n",
    "end_time = time.time()\n",
    "elapsed_time_recursive[5] = end_time - start_time\n",
    "print(\"Time Elapsed for recursive computation of determinant of M7 : \" , elapsed_time_recursive[5])\n"
   ]
  },
  {
   "attachments": {},
   "cell_type": "markdown",
   "metadata": {},
   "source": [
    "### 3.2. Row Echelon\n",
    "Use the function defined in part 1 to find the row echelon form of the matrix and calculate the determinant\n",
    "\n",
    "#### ATTENTION: BEWARE OF THE IMPACT OF EACH OPERATION ON THE DETERMINANT!"
   ]
  },
  {
   "cell_type": "code",
   "execution_count": 20,
   "metadata": {},
   "outputs": [],
   "source": [
    "def det_row_echelon(A):\n",
    "    matrix_row_count = A.shape[0]\n",
    "    matrix_column_count = A.shape[1]\n",
    "    if matrix_row_count != matrix_column_count :\n",
    "        return None \n",
    "    if matrix_row_count == 1:\n",
    "        return A[0, 0]\n",
    "    r = row_echelon(A)\n",
    "    det = 1\n",
    "    for i in np.diagonal(A):\n",
    "        det *= i\n",
    "    return det * ((-1) ** r)                                                                     "
   ]
  },
  {
   "attachments": {},
   "cell_type": "markdown",
   "metadata": {},
   "source": [
    "#### 3.2.1 Test the algorithm\n",
    "Measure the computation time of the recursive algorithm by testing it on the matrixes defined in the previous section."
   ]
  },
  {
   "cell_type": "code",
   "execution_count": 21,
   "metadata": {},
   "outputs": [
    {
     "name": "stdout",
     "output_type": "stream",
     "text": [
      "Time Elapsed for recursive computation of determinant of M2 :  0.0\n",
      "Time Elapsed for recursive computation of determinant of M3 :  0.0010046958923339844\n",
      "Time Elapsed for recursive computation of determinant of M4 :  0.001992464065551758\n",
      "Time Elapsed for recursive computation of determinant of M5 :  0.0029904842376708984\n",
      "Time Elapsed for recursive computation of determinant of M6 :  0.007063388824462891\n",
      "Time Elapsed for recursive computation of determinant of M7 :  0.06680750846862793\n"
     ]
    }
   ],
   "source": [
    "# Testing\n",
    "elapsed_time_rowechelon=[0]*6\n",
    "\n",
    "start_time = time.time()\n",
    "d1 = det_row_echelon(M2)\n",
    "end_time= time.time()\n",
    "elapsed_time_rowechelon[0] = end_time - start_time\n",
    "print(\"Time Elapsed for recursive computation of determinant of M2 : \" , elapsed_time_rowechelon[0])\n",
    "\n",
    "# Do the same for the rest of the matrices up to 7*7\n",
    "\n",
    "start_time = time.time()\n",
    "d2 = det_row_echelon(M3)\n",
    "end_time = time.time()\n",
    "elapsed_time_rowechelon[1] = end_time - start_time\n",
    "print(\"Time Elapsed for recursive computation of determinant of M3 : \" , elapsed_time_recursive[1])\n",
    "\n",
    "start_time = time.time()\n",
    "d3 = det_row_echelon(M4)\n",
    "end_time = time.time()\n",
    "elapsed_time_rowechelon[2] = end_time - start_time\n",
    "print(\"Time Elapsed for recursive computation of determinant of M4 : \" , elapsed_time_recursive[2])\n",
    "\n",
    "start_time = time.time()\n",
    "d4 = det_row_echelon(M5)\n",
    "end_time = time.time()\n",
    "elapsed_time_rowechelon[3] = end_time - start_time\n",
    "print(\"Time Elapsed for recursive computation of determinant of M5 : \" , elapsed_time_recursive[3])\n",
    "\n",
    "start_time = time.time()\n",
    "d5 = det_row_echelon(M6)\n",
    "end_time = time.time()\n",
    "elapsed_time_rowechelon[4] = end_time - start_time\n",
    "print(\"Time Elapsed for recursive computation of determinant of M6 : \" , elapsed_time_recursive[4])\n",
    "\n",
    "start_time = time.time()\n",
    "d6 = det_row_echelon(M7)\n",
    "end_time = time.time()\n",
    "elapsed_time_rowechelon[5] = end_time - start_time\n",
    "print(\"Time Elapsed for recursive computation of determinant of M7 : \" , elapsed_time_recursive[5])\n"
   ]
  },
  {
   "attachments": {},
   "cell_type": "markdown",
   "metadata": {},
   "source": [
    "### 3.3. Compare the computation time of the two proposed methods\n",
    "Try to plot the computation time versus matrix size for both methods using matplotlib functions."
   ]
  },
  {
   "cell_type": "code",
   "execution_count": 22,
   "metadata": {},
   "outputs": [
    {
     "data": {
      "image/png": "[encoded data removed]",
      "text/plain": [
       "<Figure size 640x480 with 1 Axes>"
      ]
     },
     "metadata": {},
     "output_type": "display_data"
    }
   ],
   "source": [
    "# Plot the recorded data\n",
    "plt.plot([2,3,4,5,6,7], elapsed_time_recursive, marker = \".\")\n",
    "plt.plot([2,3,4,5,6,7], elapsed_time_rowechelon, marker = \".\")\n",
    "plt.xlabel(\"n\")\n",
    "plt.ylabel(\"computation time\")\n",
    "plt.legend([\"recursive\",\"row echelon\"])\n",
    "plt.show()"
   ]
  },
  {
   "attachments": {},
   "cell_type": "markdown",
   "metadata": {},
   "source": [
    "## 4. 2D and 3D plotting\n",
    "This part solves two underdetermined systems of size N=2 and N=3 and plot the hyperplane of the results using matplotlib.\n",
    "For example if a 2*2 system in underdetermined (has infinitely many solutions), the solution space is the span of a vector set consisting of one 2-dimentional vector, thus it can be plotted as a line in the 2D space."
   ]
  },
  {
   "cell_type": "code",
   "execution_count": 23,
   "metadata": {},
   "outputs": [],
   "source": [
    "def general_solve(A):\n",
    "    row_echelon(A)\n",
    "    reduce(A)\n",
    "    n = A.shape[0]\n",
    "    if is_consistent(A) and is_unique(A):\n",
    "        return A[:, A.shape[1]-1]\n",
    "    elif is_consistent(A):\n",
    "        if n == 2:\n",
    "            x = np.zeros((2,100))\n",
    "            if not np.any(A[0]):\n",
    "                x[0] = np.linspace(0, 1, 100)\n",
    "                x[1] = np.linspace(0, 1, 100)\n",
    "            elif not np.any(A[1]):\n",
    "                x[1] = np.linspace(0, 1, 100)\n",
    "                x[0] = A[0,2] - A[0,1] * x[1]\n",
    "            return x\n",
    "        if n == 3:\n",
    "            x = np.zeros((3,100))\n",
    "            if not np.any(A[0]):\n",
    "                x[0] = np.linspace(0, 1, 100)\n",
    "                x[1] = np.linspace(0, 1, 100)\n",
    "                x[2] = np.linspace(0, 1, 100)\n",
    "            elif not np.any(A[1]):\n",
    "                x[1] = np.linspace(0, 1, 100)\n",
    "                x[2] = np.linspace(0, 1, 100)\n",
    "                x[0] = A[0,3] - A[0,1] * x[1] - A[0,2] * x[2]\n",
    "            elif not np.any(A[2]):\n",
    "                x[2] = np.linspace(0, 1, 100)\n",
    "                x[1] = A[1,3] - A[1,2] * x[2] \n",
    "                x[0] = A[0,3] - A[0,1] * x[1] - A[0,2] * x[2]\n",
    "            return x\n",
    "    return None"
   ]
  },
  {
   "cell_type": "code",
   "execution_count": 24,
   "metadata": {},
   "outputs": [
    {
     "name": "stdout",
     "output_type": "stream",
     "text": [
      "[[3.         2.97979798 2.95959596 2.93939394 2.91919192 2.8989899\n",
      "  2.87878788 2.85858586 2.83838384 2.81818182 2.7979798  2.77777778\n",
      "  2.75757576 2.73737374 2.71717172 2.6969697  2.67676768 2.65656566\n",
      "  2.63636364 2.61616162 2.5959596  2.57575758 2.55555556 2.53535354\n",
      "  2.51515152 2.49494949 2.47474747 2.45454545 2.43434343 2.41414141\n",
      "  2.39393939 2.37373737 2.35353535 2.33333333 2.31313131 2.29292929\n",
      "  2.27272727 2.25252525 2.23232323 2.21212121 2.19191919 2.17171717\n",
      "  2.15151515 2.13131313 2.11111111 2.09090909 2.07070707 2.05050505\n",
      "  2.03030303 2.01010101 1.98989899 1.96969697 1.94949495 1.92929293\n",
      "  1.90909091 1.88888889 1.86868687 1.84848485 1.82828283 1.80808081\n",
      "  1.78787879 1.76767677 1.74747475 1.72727273 1.70707071 1.68686869\n",
      "  1.66666667 1.64646465 1.62626263 1.60606061 1.58585859 1.56565657\n",
      "  1.54545455 1.52525253 1.50505051 1.48484848 1.46464646 1.44444444\n",
      "  1.42424242 1.4040404  1.38383838 1.36363636 1.34343434 1.32323232\n",
      "  1.3030303  1.28282828 1.26262626 1.24242424 1.22222222 1.2020202\n",
      "  1.18181818 1.16161616 1.14141414 1.12121212 1.1010101  1.08080808\n",
      "  1.06060606 1.04040404 1.02020202 1.        ]\n",
      " [0.         0.01010101 0.02020202 0.03030303 0.04040404 0.05050505\n",
      "  0.06060606 0.07070707 0.08080808 0.09090909 0.1010101  0.11111111\n",
      "  0.12121212 0.13131313 0.14141414 0.15151515 0.16161616 0.17171717\n",
      "  0.18181818 0.19191919 0.2020202  0.21212121 0.22222222 0.23232323\n",
      "  0.24242424 0.25252525 0.26262626 0.27272727 0.28282828 0.29292929\n",
      "  0.3030303  0.31313131 0.32323232 0.33333333 0.34343434 0.35353535\n",
      "  0.36363636 0.37373737 0.38383838 0.39393939 0.4040404  0.41414141\n",
      "  0.42424242 0.43434343 0.44444444 0.45454545 0.46464646 0.47474747\n",
      "  0.48484848 0.49494949 0.50505051 0.51515152 0.52525253 0.53535354\n",
      "  0.54545455 0.55555556 0.56565657 0.57575758 0.58585859 0.5959596\n",
      "  0.60606061 0.61616162 0.62626263 0.63636364 0.64646465 0.65656566\n",
      "  0.66666667 0.67676768 0.68686869 0.6969697  0.70707071 0.71717172\n",
      "  0.72727273 0.73737374 0.74747475 0.75757576 0.76767677 0.77777778\n",
      "  0.78787879 0.7979798  0.80808081 0.81818182 0.82828283 0.83838384\n",
      "  0.84848485 0.85858586 0.86868687 0.87878788 0.88888889 0.8989899\n",
      "  0.90909091 0.91919192 0.92929293 0.93939394 0.94949495 0.95959596\n",
      "  0.96969697 0.97979798 0.98989899 1.        ]]\n"
     ]
    },
    {
     "data": {
      "image/png": "[encoded data removed]",
      "text/plain": [
       "<Figure size 640x480 with 1 Axes>"
      ]
     },
     "metadata": {},
     "output_type": "display_data"
    }
   ],
   "source": [
    "A2 = np.array([[1,2,3],\n",
    "      [2,4,6]])\n",
    "x2 = general_solve(A2)\n",
    "print(x2)\n",
    "plt.plot(x2[0],x2[1], marker = \".\")\n",
    "plt.xlabel(\"x1\")\n",
    "plt.ylabel(\"x2\")\n",
    "plt.show()"
   ]
  },
  {
   "cell_type": "code",
   "execution_count": 25,
   "metadata": {},
   "outputs": [
    {
     "data": {
      "image/png": "[encoded data removed]",
      "text/plain": [
       "<Figure size 640x480 with 1 Axes>"
      ]
     },
     "metadata": {},
     "output_type": "display_data"
    }
   ],
   "source": [
    "# A3 = np.array([[ 1, 2, 3, 4],\n",
    "#               [ 5, 6, 7, 8],\n",
    "#               [ 9,10,11,12]])\n",
    "A3 = np.array([[ 1, 2, 3, 4],\n",
    "              [ 0, 0, 0, 0],\n",
    "              [ 0, 0, 0, 0]])\n",
    "x3 = general_solve(A3)\n",
    "ax = plt.axes(projection = '3d')\n",
    "if not np.array_equal(x3, None):\n",
    "    if np.array_equal(x3[1],np.linspace(0,1,100)) and np.array_equal(x3[2], np.linspace(0,1,100)):\n",
    "        z = np.outer(x3[2],np.ones(100))\n",
    "        ax.plot_surface(x3[0], x3[1], z)\n",
    "    else:\n",
    "        ax.plot3D(x3[0],x3[1],x3[2], marker = \".\" )\n",
    "ax.set_xlabel = \"x1\"\n",
    "ax.set_ylabel = \"x2\"\n",
    "ax.set_zlabel = \"x3\"\n",
    "plt.show()"
   ]
  },
  {
   "cell_type": "code",
   "execution_count": null,
   "metadata": {},
   "outputs": [],
   "source": []
  }
 ],
 "metadata": {
  "kernelspec": {
   "display_name": "Python 3 (ipykernel)",
   "language": "python",
   "name": "python3"
  },
  "language_info": {
   "codemirror_mode": {
    "name": "ipython",
    "version": 3
   },
   "file_extension": ".py",
   "mimetype": "text/x-python",
   "name": "python",
   "nbconvert_exporter": "python",
   "pygments_lexer": "ipython3",
   "version": "3.11.7"
  }
 },
 "nbformat": 4,
 "nbformat_minor": 4
}
